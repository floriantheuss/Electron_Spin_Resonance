{
 "cells": [
  {
   "cell_type": "code",
   "execution_count": 1,
   "metadata": {},
   "outputs": [
    {
     "name": "stderr",
     "output_type": "stream",
     "text": [
      "C:\\Program Files\\Anaconda3\\lib\\site-packages\\ipykernel\\parentpoller.py:116: UserWarning: Parent poll failed.  If the frontend dies,\n",
      "                the kernel may be left running.  Please let us know\n",
      "                about your system (bitness, Python, etc.) at\n",
      "                ipython-dev@scipy.org\n",
      "  ipython-dev@scipy.org\"\"\")\n"
     ]
    },
    {
     "data": {
      "text/html": [
       "<script type=\"text/javascript\">window.PlotlyConfig = {MathJaxConfig: 'local'};</script><script type=\"text/javascript\">if (window.MathJax) {MathJax.Hub.Config({SVG: {font: \"STIX-Web\"}});}</script><script>requirejs.config({paths: { 'plotly': ['https://cdn.plot.ly/plotly-latest.min']},});if(!window._Plotly) {require(['plotly'],function(plotly) {window._Plotly=plotly;});}</script>"
      ],
      "text/vnd.plotly.v1+html": [
       "<script type=\"text/javascript\">window.PlotlyConfig = {MathJaxConfig: 'local'};</script><script type=\"text/javascript\">if (window.MathJax) {MathJax.Hub.Config({SVG: {font: \"STIX-Web\"}});}</script><script>requirejs.config({paths: { 'plotly': ['https://cdn.plot.ly/plotly-latest.min']},});if(!window._Plotly) {require(['plotly'],function(plotly) {window._Plotly=plotly;});}</script>"
      ]
     },
     "metadata": {},
     "output_type": "display_data"
    }
   ],
   "source": [
    "%run functions_for_ESR_data_processing.ipynb\n",
    "%matplotlib inline"
   ]
  },
  {
   "cell_type": "code",
   "execution_count": 2,
   "metadata": {},
   "outputs": [],
   "source": [
    "T = []\n",
    "f = []\n",
    "B01fit = []\n",
    "gamma1fit = []\n",
    "A1fit = []\n",
    "B02fit = []\n",
    "gamma2fit = []\n",
    "A2fit = []\n",
    "B03fit = []\n",
    "gamma3fit = []\n",
    "A3fit = []\n",
    "coffset = []"
   ]
  },
  {
   "cell_type": "code",
   "execution_count": 17,
   "metadata": {},
   "outputs": [
    {
     "data": {
      "text/plain": [
       "<matplotlib.legend.Legend at 0x1912e9906a0>"
      ]
     },
     "execution_count": 17,
     "metadata": {},
     "output_type": "execute_result"
    },
    {
     "data": {
      "image/png": "[encoded data removed]",
      "text/plain": [
       "<Figure size 432x288 with 1 Axes>"
      ]
     },
     "metadata": {
      "needs_background": "light"
     },
     "output_type": "display_data"
    }
   ],
   "source": [
    "##############################################################################################################################\n",
    "##############################################################################################################################\n",
    "# set once in the beginning\n",
    "compound = 'Li'\n",
    "state = 'loose'\n",
    "#measurement = '4 K'\n",
    "measurement = 'TempDep151p1_new'\n",
    "\n",
    "frequency = '151.1' # enter 330.5 for temperature sweep and 330p5 for frequency sweep (don't type GHz at the end)\n",
    "temperature = '13'\n",
    "sweep = 'up'\n",
    "sweep = 'down'\n",
    "###############################################################################################################################\n",
    "##############################################################################################################################\n",
    "\n",
    "# create file path of the folder containing all the data files\n",
    "path1 = \"C:\\\\Users\\\\F25_1.307_b\\\\Box Sync\\\\Klingeler_Masterarbeit\\\\howardevansite\\\\\" + compound + \"CuFe2(VO4)3 powder\\\\\"\n",
    "path2 = \"ESR_\" + state + \"_powder\\\\processed_data\\\\\"\n",
    "folder = path1 + path2 + measurement #+ '\\\\phase corrected'\n",
    "\n",
    "# gives array of all the filesnames contained in previously created folder\n",
    "files = os.listdir(folder)\n",
    "\n",
    "# find filename of file you want to import\n",
    "# this is based on the frequency, temperature and sweep you entered at the top\n",
    "for i in np.arange(len(files)):\n",
    "    if files[i].find(temperature+'K') != -1:\n",
    "        if files[i].find(frequency) != -1:\n",
    "            if files[i].find(sweep) != -1:\n",
    "                filename = folder+'\\\\'+files[i]\n",
    "\n",
    "                \n",
    "# import data\n",
    "data = data_import(filename, 3)\n",
    "\n",
    "# put the important data into arrays\n",
    "# check if phase correction has been performed on this data set\n",
    "# this is done by simply checking if the imported data has the right amount of columns\n",
    "\n",
    "if filename.find('processed_p') != -1:\n",
    "#if len(data) == 12:\n",
    "    field = data[0] # magnetic field\n",
    "    Amp_pc = data[3] # phase corrected data\n",
    "    Amp_bg = data[7] # only baseline corrected\n",
    "else:\n",
    "    field = data[0] # magnetic field\n",
    "    Amp_bg = data[3] # only baseline corrected\n",
    "    \n",
    "# plot the imported signal\n",
    "plt.plot(field, Amp_bg)\n",
    "if filename.find('processed_p') != -1:\n",
    "#if len(data) == 12:\n",
    "    plt.plot(field, Amp_pc)\n",
    "plt.title(comment(filename))\n",
    "plt.legend(['only baseline corrected', 'phase corrected'])"
   ]
  },
  {
   "cell_type": "markdown",
   "metadata": {},
   "source": [
    "## Fit Lorentzian absorption lines to the data "
   ]
  },
  {
   "cell_type": "code",
   "execution_count": 19,
   "metadata": {},
   "outputs": [
    {
     "data": {
      "text/plain": [
       "<matplotlib.legend.Legend at 0x1912ea96630>"
      ]
     },
     "execution_count": 19,
     "metadata": {},
     "output_type": "execute_result"
    },
    {
     "data": {
      "image/png": "[encoded data removed]",
      "text/plain": [
       "<Figure size 432x288 with 1 Axes>"
      ]
     },
     "metadata": {
      "needs_background": "light"
     },
     "output_type": "display_data"
    }
   ],
   "source": [
    "##############################################################################################################################\n",
    "##############################################################################################################################\n",
    "# do you want to fit the phase corrected or baseline corrected data?\n",
    "# Amp_pc or Amp_bg\n",
    "data = Amp_pc\n",
    "# how many Lorentzians do you want to fit to the data? - 1 or 2\n",
    "number = 1\n",
    "# in which field range do you want to fit\n",
    "lower = 0\n",
    "upper = 10.5\n",
    "##############################################################################################################################\n",
    "##############################################################################################################################\n",
    "\n",
    "# get rid of all possible np.nan's in the data arrays\n",
    "mask1 = np.logical_not(np.isnan(data))\n",
    "data = data[mask1]\n",
    "B = field[mask1]\n",
    "\n",
    "mask2 = (B > lower) & (B < upper)\n",
    "data = data[mask2]\n",
    "B = B[mask2]\n",
    "\n",
    "\n",
    "# fit one or two Lorentzian absorption curves to the data\n",
    "# how many depends on what you entered above\n",
    "if number == 1:\n",
    "    lower_bounds = [0, 0, 0, -np.inf]\n",
    "    upper_bounds = [np.inf, np.inf, np.inf, np.inf]\n",
    "    \n",
    "    initial_guess = [5.3, 0.1, 0.2, 0]\n",
    "    popt, pcov = curve_fit (one_Lorentzian_off, B, data, initial_guess, bounds = (lower_bounds, upper_bounds), \n",
    "                        maxfev=70000, ftol=2.220446049250313e-16 )\n",
    "    \n",
    "elif number == 2:\n",
    "    lower_bounds = [0, 0, 0, 0, 0, 0, 0]\n",
    "    upper_bounds = [np.inf, np.inf, np.inf, np.inf, np.inf, np.inf, np.inf]\n",
    "    \n",
    "    initial_guess = [3.3, 0.1, 0.1, 3.6, 0.1, 0.1, 0]\n",
    "    \n",
    "    popt, pcov = curve_fit (two_Lorentzians_off, B, data, initial_guess, bounds = (lower_bounds, upper_bounds), \n",
    "                        maxfev=70000, ftol=2.220446049250313e-16 )\n",
    "    \n",
    "elif number == 3:\n",
    "    lower_bounds = [0, 0, 0, 0, 0, 0, 0, 0, 0, 0]\n",
    "    upper_bounds = [np.inf, np.inf, np.inf, np.inf, np.inf, np.inf, np.inf, np.inf, np.inf, np.inf]\n",
    "    \n",
    "    initial_guess = [3.5, 0.01, 0.01, 3.55, 0.01, 0.01, 3.6, 0.01, 0.01, 0]\n",
    "    \n",
    "    popt, pcov = curve_fit (three_Lorentzians_off, B, data, initial_guess, bounds = (lower_bounds, upper_bounds), \n",
    "                        maxfev=70000, ftol=2.220446049250313e-16 )\n",
    "       \n",
    "\n",
    "#pcov = np.sqrt(pcov)        \n",
    "# put the fit results into variables\n",
    "B01 = np.array([popt[0], pcov[0,0]])\n",
    "A1 = np.array([popt[1], pcov[1,1]])\n",
    "gamma1 = np.array([popt[2], pcov[2,2]])\n",
    "\n",
    "\n",
    "\n",
    "if number == 1:\n",
    "    offset = np.array([popt[3], pcov[3,3]])\n",
    "elif number == 2:\n",
    "    B02 = np.array([popt[3], pcov[3,3]])\n",
    "    A2 = np.array([popt[4], pcov[4,4]])\n",
    "    gamma2 = np.array([popt[5], pcov[5,5]])\n",
    "    offset = np.array([popt[6], pcov[6,6]])\n",
    "elif number == 3:\n",
    "    B02 = np.array([popt[3], pcov[3,3]])\n",
    "    A2 = np.array([popt[4], pcov[4,4]])\n",
    "    gamma2 = np.array([popt[5], pcov[5,5]])\n",
    "    B03 = np.array([popt[6], pcov[6,6]])\n",
    "    A3 = np.array([popt[7], pcov[7,7]])\n",
    "    gamma3 = np.array([popt[8], pcov[8,8]])\n",
    "    offset = np.array([popt[9], pcov[9,9]])\n",
    "   \n",
    "    \n",
    "\n",
    "    \n",
    "    \n",
    "# plot the fit results\n",
    "if number == 1:\n",
    "    fit = one_Lorentzian_off(B, B01[0], A1[0], gamma1[0], offset[0])\n",
    "elif number ==2:\n",
    "    fit = two_Lorentzians_off(B, B01[0], A1[0], gamma1[0], B02[0], A2[0], gamma2[0], offset[0])\n",
    "    fit1 = one_Lorentzian(B, B01[0], A1[0], gamma1[0])\n",
    "    fit2 = one_Lorentzian(B, B02[0], A2[0], gamma2[0])\n",
    "elif number ==3:\n",
    "    fit = three_Lorentzians_off(B, B01[0], A1[0], gamma1[0], B02[0], A2[0], gamma2[0], B03[0], A3[0], gamma3[0], offset[0])\n",
    "    fit1 = one_Lorentzian(B, B01[0], A1[0], gamma1[0])\n",
    "    fit2 = one_Lorentzian(B, B02[0], A2[0], gamma2[0])\n",
    "    fit3 = one_Lorentzian(B, B03[0], A3[0], gamma3[0])\n",
    "\n",
    "expdata = data    \n",
    "plt.plot(B, expdata)\n",
    "plt.plot(B, fit)\n",
    "if number == 2:\n",
    "    plt.plot(B, fit1)\n",
    "    plt.plot(B, fit2)\n",
    "elif number ==3:\n",
    "    plt.plot(B, fit1)\n",
    "    plt.plot(B, fit2)\n",
    "    plt.plot(B, fit3)\n",
    "plt.legend(['data', 'fit', 'L1', 'L2', 'L3'])"
   ]
  },
  {
   "cell_type": "code",
   "execution_count": 20,
   "metadata": {},
   "outputs": [],
   "source": [
    "data = [B, expdata, fit]\n",
    "units = ['T', 'a.u.', 'a.u.']\n",
    "names = ['B', 'ESR Transmision', 'fit']\n",
    "\n",
    "#com = frequency + ' GHz'\n",
    "com = temperature + ' K'\n",
    "comments = [com, com, com]\n",
    "name = temperature + '_K.txt'\n",
    "\n",
    "path1 = \"C:\\\\Users\\\\F25_1.307_b\\\\Box Sync\\\\Klingeler_Masterarbeit\\\\howardevansite\\\\\" + compound + \"CuFe2(VO4)3 powder\\\\\"\n",
    "path2 = \"ESR_\" + state + \"_powder\\\\fits\\\\individual_temperatures\\\\\"\n",
    "filename = path1 + path2 + '151.1_GHz\\\\' + name\n",
    "\n",
    "save (data, names, units, comments, filename)"
   ]
  },
  {
   "cell_type": "code",
   "execution_count": 66,
   "metadata": {},
   "outputs": [
    {
     "data": {
      "text/plain": [
       "<matplotlib.collections.PathCollection at 0x26ac306f5c0>"
      ]
     },
     "execution_count": 66,
     "metadata": {},
     "output_type": "execute_result"
    },
    {
     "data": {
      "image/png": "[encoded data removed]",
      "text/plain": [
       "<Figure size 432x288 with 1 Axes>"
      ]
     },
     "metadata": {
      "needs_background": "light"
     },
     "output_type": "display_data"
    }
   ],
   "source": [
    "B01fit.append(B01[0])\n",
    "A1fit.append(A1[0])\n",
    "gamma1fit.append(gamma1[0])\n",
    "coffset.append(offset[0])\n",
    "\n",
    "if number == 2:\n",
    "    B02fit.append(B02[0])\n",
    "    A2fit.append(A2[0])\n",
    "    gamma2fit.append(gamma2[0])\n",
    "    \n",
    "if number == 3:\n",
    "    B02fit.append(B02[0])\n",
    "    A2fit.append(A2[0])\n",
    "    gamma2fit.append(gamma2[0])\n",
    "    \n",
    "    B03fit.append(B03[0])\n",
    "    A3fit.append(A3[0])\n",
    "    gamma3fit.append(gamma3[0])\n",
    "\n",
    "    \n",
    "T.append(float(temperature))\n",
    "if frequency.find('p') == -1:\n",
    "    f.append(float(frequency))\n",
    "else:\n",
    "    i = frequency.find('p')\n",
    "    freq = frequency[:i] + '.' + frequency[i+1:]\n",
    "    f.append(float(freq))\n",
    "\n",
    "plt.scatter(T, gamma1fit)"
   ]
  },
  {
   "cell_type": "code",
   "execution_count": null,
   "metadata": {
    "scrolled": true
   },
   "outputs": [],
   "source": [
    "B01fit = B01fit[:-1]\n",
    "A1fit = A1fit[:-1]\n",
    "gamma1fit = gamma1fit[:-1]\n",
    "coffset = coffset[:-1]\n",
    "T = T[:-1]\n",
    "f = f[:-1]"
   ]
  },
  {
   "cell_type": "code",
   "execution_count": null,
   "metadata": {},
   "outputs": [],
   "source": [
    "Tfinal = np.array(T)[::2]\n",
    "ffinal = np.array(f)[::2]\n",
    "\n",
    "B01final = ( np.array(B01fit)[::2] + np.array(B01fit)[1::2] ) / 2\n",
    "dB01final = abs( np.array(B01fit)[::2] - np.array(B01fit)[1::2] ) / 2\n",
    "\n",
    "gamma1final = ( np.array(gamma1fit)[::2] + np.array(gamma1fit)[1::2] ) / 2\n",
    "dgamma1final = abs( np.array(gamma1fit)[::2] - np.array(gamma1fit)[1::2] ) / 2\n",
    "\n",
    "A1final = ( np.array(A1fit)[::2] + np.array(A1fit)[1::2] ) / 2\n",
    "dA1final = abs( np.array(A1fit)[::2] - np.array(A1fit)[1::2] ) / 2\n",
    "\n",
    "B02final = ( np.array(B02fit)[::2] + np.array(B02fit)[1::2] ) / 2\n",
    "dB02final = abs( np.array(B02fit)[::2] - np.array(B02fit)[1::2] ) / 2\n",
    "\n",
    "gamma2final = ( np.array(gamma2fit)[::2] + np.array(gamma2fit)[1::2] ) / 2\n",
    "dgamma2final = abs( np.array(gamma2fit)[::2] - np.array(gamma2fit)[1::2] ) / 2\n",
    "\n",
    "A2final = ( np.array(A2fit)[::2] + np.array(A2fit)[1::2] ) / 2\n",
    "dA2final = abs( np.array(A2fit)[::2] - np.array(A2fit)[1::2] ) / 2\n",
    "\n",
    "#B03final = ( np.array(B03fit)[::2] + np.array(B03fit)[1::2] ) / 2\n",
    "#dB03final = abs( np.array(B03fit)[::2] - np.array(B03fit)[1::2] ) / 2\n",
    "\n",
    "#gamma3final = ( np.array(gamma3fit)[::2] + np.array(gamma3fit)[1::2] ) / 2\n",
    "#dgamma3final = abs( np.array(gamma3fit)[::2] - np.array(gamma3fit)[1::2] ) / 2\n",
    "\n",
    "#A3final = ( np.array(A3fit)[::2] + np.array(A3fit)[1::2] ) / 2\n",
    "#dA3final = abs( np.array(A3fit)[::2] - np.array(A3fit)[1::2] ) / 2\n",
    "\n",
    "offsetfinal = ( np.array(coffset)[::2] + np.array(coffset)[1::2] ) / 2\n",
    "doffsetfinal = abs( np.array(coffset)[::2] - np.array(coffset)[1::2] ) / 2\n",
    "\n",
    "\n",
    "Tfinal2 = Tfinal[2:len(B02final)+2]\n",
    "ffinal2 = ffinal[2:len(B02final)+2]\n",
    "\n",
    "#Tfinal3 = Tfinal[1:len(B03final)+1]\n",
    "#ffinal3 = ffinal[1:len(B03final)+1]"
   ]
  },
  {
   "cell_type": "code",
   "execution_count": null,
   "metadata": {},
   "outputs": [],
   "source": [
    "g1 = ffinal/B01final/13.98\n",
    "dg1 = ffinal/B01final**2/13.98 * dB01final\n",
    "\n",
    "g2 = ffinal2/B02final/13.98\n",
    "dg2 = ffinal2/B02final**2/13.98 * dB02final\n",
    "\n",
    "#g3 = ffinal3/B03final/13.98\n",
    "#dg3 = ffinal3/B03final**2/13.98 * dB03final\n",
    "\n",
    "plt.errorbar(Tfinal2, g2, yerr=dg2)"
   ]
  },
  {
   "cell_type": "code",
   "execution_count": null,
   "metadata": {},
   "outputs": [],
   "source": [
    "plt.errorbar(Tfinal2, A2final, yerr=dA2final)"
   ]
  },
  {
   "cell_type": "code",
   "execution_count": null,
   "metadata": {},
   "outputs": [],
   "source": [
    "plt.errorbar(Tfinal2, gamma2final, yerr=dgamma2final)"
   ]
  },
  {
   "cell_type": "code",
   "execution_count": null,
   "metadata": {
    "scrolled": true
   },
   "outputs": [],
   "source": [
    "plt.errorbar(Tfinal, offsetfinal, yerr=doffsetfinal)"
   ]
  },
  {
   "cell_type": "code",
   "execution_count": null,
   "metadata": {},
   "outputs": [],
   "source": [
    "data = [Tfinal, ffinal, g1, dg1, gamma1final, dgamma1final, A1final, dA1final, B01final, dB01final, offsetfinal, doffsetfinal]\n",
    "names = ['T', 'f', 'g', 'dg', 'linewidth', 'dlinewidth', 'intensity', 'dintensity', 'B0', 'dB0', 'offset', 'doffset']\n",
    "units = ['K', 'GHz', '', '', 'T', 'T', 'a.u.', 'a.u.', 'T', 'T', 'a.u.', 'a.u.']\n",
    "\n",
    "com = frequency + ' GHz'\n",
    "comments = [com, com, com, com, com, com, com, com, com, com, com, com]\n",
    "\n",
    "filename = path1+'ESR_fixed_powder\\\\fits\\\\TempDep247.6GHz_resonance1.txt'\n",
    "\n",
    "save (data, names, units, comments, filename)\n"
   ]
  },
  {
   "cell_type": "code",
   "execution_count": null,
   "metadata": {},
   "outputs": [],
   "source": [
    "data = [Tfinal2, ffinal2, g2, dg2, gamma2final, dgamma2final, A2final, dA2final, B02final, dB02final, offsetfinal, doffsetfinal]\n",
    "names = ['T', 'f', 'g', 'dg', 'linewidth', 'dlinewidth', 'intensity', 'dintensity', 'B0', 'dB0', 'offset', 'doffset']\n",
    "units = ['K', 'GHz', '', '', 'T', 'T', 'a.u.', 'a.u.', 'T', 'T', 'a.u.', 'a.u.']\n",
    "\n",
    "com = frequency + ' GHz'\n",
    "comments = [com, com, com, com, com, com, com, com, com, com, com, com]\n",
    "\n",
    "filename = path1+'ESR_fixed_powder\\\\fits\\\\TempDep247.6GHz_resonance2.txt'\n",
    "\n",
    "save (data, names, units, comments, filename)"
   ]
  },
  {
   "cell_type": "code",
   "execution_count": null,
   "metadata": {},
   "outputs": [],
   "source": [
    "data = [Tfinal3, ffinal3, g3, dg3, gamma3final, dgamma3final, A3final, dA3final, B03final, dB03final, offsetfinal, doffsetfinal]\n",
    "names = ['T', 'f', 'g', 'dg', 'linewidth', 'dlinewidth', 'intensity', 'dintensity', 'B0', 'dB0', 'offset', 'doffset']\n",
    "units = ['K', 'GHz', '', '', 'T', 'T', 'a.u.', 'a.u.', 'T', 'T', 'a.u.', 'a.u.']\n",
    "\n",
    "com = frequency + ' GHz'\n",
    "comments = [com, com, com, com, com, com, com, com, com, com, com, com]\n",
    "\n",
    "filename = path1+'ESR_fixed_powder\\\\fits\\\\TempDep247.6GHz_resonance3.txt'\n",
    "\n",
    "save (data, names, units, comments, filename)"
   ]
  },
  {
   "cell_type": "markdown",
   "metadata": {},
   "source": [
    "# Fit all data files in folder"
   ]
  },
  {
   "cell_type": "code",
   "execution_count": null,
   "metadata": {},
   "outputs": [],
   "source": [
    "##############################################################################################################################\n",
    "##############################################################################################################################\n",
    "\n",
    "# set once in the beginning\n",
    "compound = 'Li'\n",
    "state = 'fixed'\n",
    "#measurement = '4 K'\n",
    "measurement = 'TempDep330.5'\n",
    "\n",
    "##############################################################################################################################\n",
    "##############################################################################################################################\n",
    "\n",
    "# create file path of the folder containing all the data files\n",
    "path1 = \"C:\\\\Users\\\\F25_1.307_b\\\\Box Sync\\\\Klingeler_Masterarbeit\\\\howardevansite\\\\\" + compound + \"CuFe2(VO4)3 powder\\\\\"\n",
    "path2 = \"ESR_\" + state + \"_powder\\\\processed_data\\\\\"\n",
    "folder = path1 + path2 + measurement\n",
    "\n",
    "# gives array of all the filesnames contained in previously created folder\n",
    "files = os.listdir(folder)\n",
    "\n",
    "T = []\n",
    "for i in files:\n",
    "    filename = folder + '\\\\' + i\n",
    "    T.append( float( comment(filename)[:comment(filename).find('K')] ) )\n",
    "\n",
    "T = np.array(T)\n",
    "files = np.array(files)[T.argsort()]\n",
    "    \n",
    "\n",
    "    \n",
    "#initial_guess = [ B01[0], A1[0], gamma1[0], angle[0] ]\n",
    "    \n",
    "B01 = []\n",
    "gamma1 = []\n",
    "A1 = []\n",
    "B02 = []\n",
    "gamma2 = []\n",
    "A2 = []\n",
    "angle = []\n",
    "T = []\n",
    "f = []\n",
    "offset = []\n",
    "\n",
    "for i in files: #[::-1]:\n",
    "    # import data\n",
    "    filename = folder+'\\\\'+i\n",
    "    data = data_import(filename, 3)\n",
    "    \n",
    "    # put the important data into arrays\n",
    "    # check if phase correction has been performed on this data set\n",
    "    # this is done by simply checking if the imported data has the right amount of columns\n",
    "    if len(data) == 12:\n",
    "        field = data[0] # magnetic field\n",
    "        Amp_pc = data[3] # phase corrected data\n",
    "        Amp_bg = data[7] # only baseline corrected\n",
    "    else:\n",
    "        field = data[0] # magnetic field\n",
    "        Amp_bg = data[3] # only baseline corrected\n",
    "        \n",
    "        \n",
    "    ##############################################################################################################################\n",
    "    ##############################################################################################################################\n",
    "    # do you want to fit the phase corrected or baseline corrected data?\n",
    "    # Amp_pc or Amp_bg\n",
    "    if len(data) == 12:\n",
    "        data = Amp_pc\n",
    "    else:\n",
    "        data = Amp_bg\n",
    "    # how many Lorentzians do you want to fit to the data? - 1 or 2\n",
    "    number = 1\n",
    "    ##############################################################################################################################\n",
    "    ##############################################################################################################################\n",
    "    \n",
    "    # get rid of all possible np.nan's in the data arrays\n",
    "    mask = np.logical_not(np.isnan(data))\n",
    "    data = data[mask]\n",
    "    B = field[mask]\n",
    "    \n",
    "    # fit one or two Lorentzian absorption curves to the data\n",
    "    # how many depends on what you entered above\n",
    "    if number == 1:\n",
    "        lower_bounds = [0, 0, 0, -np.inf] #, -np.inf, -np.inf]\n",
    "        upper_bounds = [np.inf, np.inf, np.inf, np.inf] #, np.inf, np.inf]\n",
    "        \n",
    "        popt, pcov = curve_fit (one_Lor_w_phase, B, data, initial_guess, bounds = (lower_bounds, upper_bounds), \n",
    "                                maxfev=70000, ftol=2.220446049250313e-16 )\n",
    "        \n",
    "        #initial_guess = [ popt[0], popt[1], popt[2], popt[3] ]\n",
    "        \n",
    "        #if float(comment(filename)[:comment(filename).find('K')]) < 35:\n",
    "        #    initial_guess = [ popt[0], popt[1]/5, popt[2], popt[3] ]\n",
    "        \n",
    "    elif number == 2:\n",
    "        lower_bounds = [0, 0, 0, 0, 0, 0]\n",
    "        upper_bounds = [np.inf, np.inf, np.inf, np.inf, np.inf, np.inf]\n",
    "        \n",
    "        initial_guess = [B01i[-2], A1i[-2], gamma1i[-2], B02i[-2], A2i[-2], gamma2i[-2]]\n",
    "        popt, pcov = curve_fit (two_Lorentzians, B, data, initial_guess, bounds = (lower_bounds, upper_bounds), \n",
    "                                maxfev=70000, ftol=2.220446049250313e-16 )\n",
    "        \n",
    "    \n",
    "    # put the fit results into variables\n",
    "    B01.append([popt[0], pcov[0,0]])\n",
    "    A1.append([popt[1], pcov[1,1]])\n",
    "    gamma1.append([popt[2], pcov[2,2]])\n",
    "    \n",
    "    angle.append([popt[3], pcov[3,3]])\n",
    "    #offset.append([popt[4], pcov[4,4]])\n",
    "    T.append(float(comment(filename)[:comment(filename).find('K')]))\n",
    "    f.append(float(comment(filename)[comment(filename).find('K')+2 : comment(filename).find('G')]))\n",
    "\n",
    "    \n",
    "    \n",
    "    if number == 2:\n",
    "        B02.append([popt[3], pcov[3,3]])\n",
    "        A2.append([popt[4], pcov[4,4]])\n",
    "        gamma2.append([popt[5], pcov[5,5]])\n",
    "    elif number == 1:\n",
    "        B02.append([np.nan, np.nan])\n",
    "        A2.append([np.nan, np.nan])\n",
    "        gamma2.append([np.nan, np.nan])\n",
    "    \n",
    "\n",
    "\n",
    "B01 = np.array(B01)#[::-1]\n",
    "gamma1 = np.array(gamma1)#[::-1]\n",
    "A1 = np.array(A1)#[::-1]\n",
    "B02 = np.array(B02)#[::-1]\n",
    "gamma2 = np.array(gamma2)#[::-1]\n",
    "A2 = np.array(A2)#[::-1]\n",
    "angle = np.array(angle)#[::-1]\n",
    "offset = np.array(offset)#[::-1]\n",
    "T = np.array(T)#[::-1]\n",
    "f = np.array(f)#[::-1]\n",
    "    \n",
    "    \n",
    "B01_ave = (B01[::2] + B01[1::2]) / 2\n",
    "gamma1_ave = (gamma1[::2] + gamma1[1::2]) / 2\n",
    "A1_ave = (A1[::2] + A1[1::2]) / 2\n",
    "B02_ave = (B02[::2] + B02[1::2]) / 2\n",
    "gamma2_ave = (gamma2[::2] + gamma2[1::2]) / 2\n",
    "A2_ave = (A2[::2] + A2[1::2]) / 2\n",
    "angle_ave = (angle[::2] + angle[1::2]) / 2\n",
    "offset_ave = (offset[::2] + offset[1::2]) / 2\n",
    "Tave = T[::2]\n",
    "fave = f[::2]"
   ]
  },
  {
   "cell_type": "code",
   "execution_count": null,
   "metadata": {
    "scrolled": true
   },
   "outputs": [],
   "source": [
    "plt.scatter(Tave, f[0]/B01_ave[:,0]/13.98)\n",
    "#plt.ylim([1.5, 5])"
   ]
  },
  {
   "cell_type": "code",
   "execution_count": null,
   "metadata": {},
   "outputs": [],
   "source": [
    "plt.scatter(Tave, A1_ave[:,0])"
   ]
  },
  {
   "cell_type": "code",
   "execution_count": null,
   "metadata": {},
   "outputs": [],
   "source": [
    "plt.scatter(Tave, gamma1_ave[:,0])\n",
    "#plt.ylim([0,5])"
   ]
  },
  {
   "cell_type": "code",
   "execution_count": null,
   "metadata": {},
   "outputs": [],
   "source": [
    "plt.scatter(Tave, angle_ave[:,0])"
   ]
  },
  {
   "cell_type": "markdown",
   "metadata": {},
   "source": [
    "# Plot individual fits"
   ]
  },
  {
   "cell_type": "code",
   "execution_count": null,
   "metadata": {},
   "outputs": [],
   "source": [
    "temp = 200\n",
    "sweep = 'down'\n",
    "\n",
    "\n",
    "if sweep == 'up':\n",
    "    sweep = 0\n",
    "else:\n",
    "    sweep = 1\n",
    "    \n",
    "\n",
    "index = np.arange(len(T))[abs(T-temp)-min(abs(T-temp))<0.1][0] + sweep\n",
    "\n",
    "# import data\n",
    "filename = folder+'\\\\'+files[index]\n",
    "data = data_import(filename, 3)\n",
    "    \n",
    "# put the important data into arrays\n",
    "# check if phase correction has been performed on this data set\n",
    "# this is done by simply checking if the imported data has the right amount of columns\n",
    "if len(data) == 12:\n",
    "    field = data[0] # magnetic field\n",
    "    Amp_pc = data[3] # phase corrected data\n",
    "    Amp_bg = data[7] # only baseline corrected\n",
    "else:\n",
    "    field = data[0] # magnetic field\n",
    "    Amp_bg = data[3] # only baseline corrected\n",
    "    \n",
    "if len(data) == 12:\n",
    "    data = Amp_pc\n",
    "else:\n",
    "    data = Amp_bg\n",
    "\n",
    "plt.title( str(T[index]) + ' K' )\n",
    "plt.plot(field, data)\n",
    "\n",
    "#fit = one_Lor_w_phase_and_offset(field, B01[index,0], gamma1[index,0], A1[index,0], angle[index, 0], offset[index,0])\n",
    "fit = one_Lorentzian(field, B01[index,0], gamma1[index,0], A1[index,0])\n",
    "plt.plot(field, fit)"
   ]
  },
  {
   "cell_type": "markdown",
   "metadata": {},
   "source": [
    "# Numerically Integrate All Data Files"
   ]
  },
  {
   "cell_type": "code",
   "execution_count": 137,
   "metadata": {},
   "outputs": [
    {
     "data": {
      "text/plain": [
       "<ErrorbarContainer object of 3 artists>"
      ]
     },
     "execution_count": 137,
     "metadata": {},
     "output_type": "execute_result"
    },
    {
     "data": {
      "image/png": "[encoded data removed]",
      "text/plain": [
       "<Figure size 432x288 with 1 Axes>"
      ]
     },
     "metadata": {
      "needs_background": "light"
     },
     "output_type": "display_data"
    }
   ],
   "source": [
    "from scipy.integrate import trapz #simps\n",
    "##############################################################################################################################\n",
    "##############################################################################################################################\n",
    "\n",
    "# set once in the beginning\n",
    "compound = 'Na'\n",
    "state = 'fixed'\n",
    "#measurement = '4 K'\n",
    "measurement = 'TempDep099p6'\n",
    "\n",
    "##############################################################################################################################\n",
    "##############################################################################################################################\n",
    "\n",
    "# create file path of the folder containing all the data files\n",
    "path1 = \"C:\\\\Users\\\\F25_1.307_b\\\\Box Sync\\\\Klingeler_Masterarbeit\\\\howardevansite\\\\\" + compound + \"CuFe2(VO4)3 powder\\\\\"\n",
    "path2 = \"ESR_\" + state + \"_powder\\\\\"#processed_data\\\\\"\n",
    "folder = path1 + path2 + measurement + '\\\\phase corrected'\n",
    "\n",
    "# gives array of all the filesnames contained in previously created folder\n",
    "files = [i for i in os.listdir(folder) if i.find('.txt') != -1]\n",
    "#files = np.array([i for i in files if i.find('200')==-1])\n",
    "\n",
    "T = []\n",
    "for i in files:\n",
    "    filename = folder + '\\\\' + i\n",
    "    T.append( float( comment(filename)[:comment(filename).find('K')] ) )\n",
    "\n",
    "T = np.array(T)\n",
    "files = np.array(files)[T.argsort()]\n",
    "T = sorted(T)\n",
    "    \n",
    "\n",
    "    \n",
    "#initial_guess = [ B01[0], A1[0], gamma1[0], angle[0] ]\n",
    "    \n",
    "intensity = np.zeros(len(files))\n",
    "\n",
    "for i in np.arange(len(files)): #[::-1]:\n",
    "    # import data\n",
    "    filename = folder+'\\\\'+files[i]\n",
    "    data = data_import(filename, 3)\n",
    "    \n",
    "    # put the important data into arrays\n",
    "    # check if phase correction has been performed on this data set\n",
    "    # this is done by simply checking if the imported data has the right amount of columns\n",
    "    if len(data) == 12:\n",
    "        field = data[0] # magnetic field\n",
    "        Amp_pc = data[3] # phase corrected data\n",
    "        Amp_bg = data[7] # only baseline corrected\n",
    "    else:\n",
    "        field = data[0] # magnetic field\n",
    "        Amp_bg = data[3] # only baseline corrected\n",
    "        \n",
    "        \n",
    "    ##############################################################################################################################\n",
    "    ##############################################################################################################################\n",
    "    # do you want to fit the phase corrected or baseline corrected data?\n",
    "    # Amp_pc or Amp_bg\n",
    "    if len(data) == 12:\n",
    "        data = Amp_pc\n",
    "    else:\n",
    "        data = Amp_bg\n",
    "    # how many Lorentzians do you want to fit to the data? - 1 or 2\n",
    "    \n",
    "    ##############################################################################################################################\n",
    "    ##############################################################################################################################\n",
    "    \n",
    "    \n",
    "    # get rid of all possible np.nan's in the data arrays\n",
    "    mask = np.logical_not(np.isnan(data))\n",
    "    data = data[mask]\n",
    "    B = field[mask]\n",
    "    \n",
    "    intensity[i] = abs(trapz(data, B))\n",
    "\n",
    "intensity_ave = (intensity[::2] + intensity[1::2])/2\n",
    "intensity_error = abs(intensity[::2] - intensity[1::2])/2\n",
    "T_ave = T[::2]\n",
    "plt.errorbar(T_ave, intensity_ave, yerr = intensity_error)"
   ]
  },
  {
   "cell_type": "code",
   "execution_count": 131,
   "metadata": {},
   "outputs": [
    {
     "data": {
      "text/plain": [
       "4.0"
      ]
     },
     "execution_count": 131,
     "metadata": {},
     "output_type": "execute_result"
    }
   ],
   "source": [
    "T"
   ]
  },
  {
   "cell_type": "code",
   "execution_count": null,
   "metadata": {},
   "outputs": [],
   "source": [
    "plt.scatter(T_ave, intensity_ave/max(intensity_ave))\n",
    "plt.scatter(T127, A127/max(A127))"
   ]
  },
  {
   "cell_type": "code",
   "execution_count": 136,
   "metadata": {},
   "outputs": [],
   "source": [
    "int263p3 = intensity_ave\n",
    "dint263p3 = intensity_error\n",
    "T263p3 = T_ave"
   ]
  },
  {
   "cell_type": "code",
   "execution_count": 134,
   "metadata": {},
   "outputs": [],
   "source": [
    "int247p6 = intensity_ave\n",
    "dint247p6 = intensity_error\n",
    "T247p6 = T_ave"
   ]
  },
  {
   "cell_type": "code",
   "execution_count": 139,
   "metadata": {},
   "outputs": [],
   "source": [
    "int99p6 = intensity_ave\n",
    "dint99p6 = intensity_error\n",
    "T99p6 = T_ave"
   ]
  },
  {
   "cell_type": "code",
   "execution_count": 140,
   "metadata": {},
   "outputs": [],
   "source": [
    "a = max([len(T263p3), len(T247p6), len(T99p6)])\n",
    "I26 = np.nan * np.zeros(a)\n",
    "dI26 = np.nan * np.zeros(a)\n",
    "T26 = np.nan * np.zeros(a)\n",
    "\n",
    "I24 = np.nan * np.zeros(a)\n",
    "dI24 = np.nan * np.zeros(a)\n",
    "T24 = np.nan * np.zeros(a)\n",
    "\n",
    "I99 = np.nan * np.zeros(a)\n",
    "dI99 = np.nan * np.zeros(a)\n",
    "T99 = np.nan * np.zeros(a)\n",
    "\n",
    "I26[:len(T263p3)] = int263p3\n",
    "dI26[:len(T263p3)] = dint263p3\n",
    "T26[:len(T263p3)] = T263p3\n",
    "\n",
    "I24[:len(T247p6)] = int247p6\n",
    "dI24[:len(T247p6)] = dint247p6\n",
    "T24[:len(T247p6)] = T247p6\n",
    "\n",
    "I99[:len(T99p6)] = int99p6\n",
    "dI99[:len(T99p6)] = dint99p6\n",
    "T99[:len(T99p6)] = T99p6"
   ]
  },
  {
   "cell_type": "code",
   "execution_count": 141,
   "metadata": {},
   "outputs": [],
   "source": [
    "data = [T26, I26, dI26, T24, I24, dI24, T99, I99, dI99]\n",
    "names = ['T', 'ESR Transmission', 'error', 'T', 'ESR Transmission', 'error', 'T', 'ESR Transmission', 'error']\n",
    "comments = ['263.3 GHz', '263.3 GHz', '263.3 GHz', '247.6 GHz', '247.6 GHz', '247.6 GHz', '99.6 GHz', '99.6 GHz','99.6 GHz']\n",
    "units = ['K', 'a.u.', 'a.u.', 'K', 'a.u.', 'a.u.', 'K', 'a.u.', 'a.u.']\n",
    "\n",
    "path1 = \"C:\\\\Users\\\\F25_1.307_b\\\\Box Sync\\\\Klingeler_Masterarbeit\\\\howardevansite\\\\\" + compound + \"CuFe2(VO4)3 powder\\\\\"\n",
    "path2 = \"ESR_\" + state + \"_powder\\\\\"#processed_data\\\\\"\n",
    "filename = path1 + path2 + '\\\\fits\\\\inegrated_intensity.txt'\n",
    "\n",
    "save (data, names, units, comments, filename)"
   ]
  },
  {
   "cell_type": "code",
   "execution_count": null,
   "metadata": {},
   "outputs": [],
   "source": []
  }
 ],
 "metadata": {
  "kernelspec": {
   "display_name": "Python 3",
   "language": "python",
   "name": "python3"
  },
  "language_info": {
   "codemirror_mode": {
    "name": "ipython",
    "version": 3
   },
   "file_extension": ".py",
   "mimetype": "text/x-python",
   "name": "python",
   "nbconvert_exporter": "python",
   "pygments_lexer": "ipython3",
   "version": "3.7.3"
  }
 },
 "nbformat": 4,
 "nbformat_minor": 2
}
