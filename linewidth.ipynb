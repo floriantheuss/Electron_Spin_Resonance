{
 "cells": [
  {
   "cell_type": "code",
   "execution_count": 19,
   "metadata": {
    "collapsed": true
   },
   "outputs": [],
   "source": [
    "import numpy as np"
   ]
  },
  {
   "cell_type": "code",
   "execution_count": 20,
   "metadata": {
    "collapsed": true
   },
   "outputs": [],
   "source": [
    "hbar = 6.626/2/np.pi * 10**(-27)  # erg*s\n",
    "muB = 9.274 * 10**(-21)   # erg/G\n",
    "kB = 1.38 * 10**(-16)   # erg/K\n",
    "\n",
    "factor = 20/3/np.sqrt(3)\n",
    "\n",
    "def Mae (A, S):\n",
    "    return 3/2 * A**2 * S*(S+1) / hbar**2\n",
    "def dHae (A, S, J):\n",
    "    dH = factor /g/muB * Mae(A,S) / J * hbar**2\n",
    "    return dH\n",
    "\n",
    "def Mdd (r, S):\n",
    "    return 3 * g**4 * muB**4 / 2 / hbar**2 * S*(S+1) * 2 * (1/r**3)**2\n",
    "def dHdd (r, S, J):\n",
    "    dH = factor /g/muB * Mdd(r,S) / J * hbar**2\n",
    "    return dH\n",
    "    \n",
    "\n"
   ]
  },
  {
   "cell_type": "code",
   "execution_count": 34,
   "metadata": {
    "collapsed": true
   },
   "outputs": [],
   "source": [
    "S = 5/2\n",
    "J = 25 * kB\n",
    "g = (2.15 + 2.24 + 2.06)/3\n",
    "dg = g-2\n",
    "A = (dg/g)**2 * J\n",
    "r = 2.94 * 10**(-8)"
   ]
  },
  {
   "cell_type": "code",
   "execution_count": 35,
   "metadata": {},
   "outputs": [
    {
     "name": "stdout",
     "output_type": "stream",
     "text": [
      "3.3281705429002433e+21 207.09621702684265\n"
     ]
    }
   ],
   "source": [
    "print ( Mae(A, S), dHae(A, S, J) )"
   ]
  },
  {
   "cell_type": "code",
   "execution_count": 36,
   "metadata": {},
   "outputs": [
    {
     "name": "stdout",
     "output_type": "stream",
     "text": [
      "5.77729314773503e+21 359.493463489526\n"
     ]
    }
   ],
   "source": [
    "print (Mdd(r,S), dHdd(r, S, J))"
   ]
  },
  {
   "cell_type": "code",
   "execution_count": 40,
   "metadata": {},
   "outputs": [],
   "source": [
    "meV_to_erg = 10**(-3) * 1.6022*10**(-19) * 10**7\n",
    "\n",
    "S = 5/2 #(5/2 + 5/2 + 1/2)/3\n",
    "J = 1.24 * meV_to_erg #(1.24 + 1.33 + 1.02 + 1.38)/4 * meV_to_erg\n",
    "g = 2.01\n",
    "dg = g-2\n",
    "A = 0.01*J #(dg/g)**2 * J\n",
    "r = 3.6* 10**(-8) #3.137 * 10**(-8) #(3.185 + 3.096 + 3.112 + 3.156) / 4 * 10**(-8)"
   ]
  },
  {
   "cell_type": "code",
   "execution_count": 41,
   "metadata": {
    "scrolled": true
   },
   "outputs": [
    {
     "name": "stdout",
     "output_type": "stream",
     "text": [
      "4.658359601774782e+21 538.4218665169658\n"
     ]
    }
   ],
   "source": [
    "print ( Mae(A, S), dHae(A, S, J) )"
   ]
  },
  {
   "cell_type": "code",
   "execution_count": 42,
   "metadata": {},
   "outputs": [
    {
     "name": "stdout",
     "output_type": "stream",
     "text": [
      "1.309253587781896e+21 151.32596466124943\n"
     ]
    }
   ],
   "source": [
    "print (Mdd(r,S), dHdd(r, S, J))"
   ]
  },
  {
   "cell_type": "code",
   "execution_count": 14,
   "metadata": {},
   "outputs": [
    {
     "data": {
      "text/plain": [
       "2.2222222222222223"
      ]
     },
     "execution_count": 14,
     "metadata": {},
     "output_type": "execute_result"
    }
   ],
   "source": [
    "2 / (1 - np.sqrt(0.01) )"
   ]
  },
  {
   "cell_type": "code",
   "execution_count": 43,
   "metadata": {
    "collapsed": true
   },
   "outputs": [],
   "source": [
    "Be = 58\n",
    "dBe = 5\n",
    "Bea = 1.758\n",
    "dBea = 0.007"
   ]
  },
  {
   "cell_type": "code",
   "execution_count": 47,
   "metadata": {},
   "outputs": [
    {
     "data": {
      "text/plain": [
       "26.642793103448277"
      ]
     },
     "execution_count": 47,
     "metadata": {},
     "output_type": "execute_result"
    }
   ],
   "source": [
    "Bea**2/ 2 / Be * 1000"
   ]
  },
  {
   "cell_type": "code",
   "execution_count": 49,
   "metadata": {},
   "outputs": [
    {
     "data": {
      "text/plain": [
       "2.3065716902356246"
      ]
     },
     "execution_count": 49,
     "metadata": {},
     "output_type": "execute_result"
    }
   ],
   "source": [
    "np.sqrt( (Bea*dBea/Be)**2 + (Bea**2 * dBe / 2 / Be**2)**2 ) * 1000"
   ]
  },
  {
   "cell_type": "code",
   "execution_count": 55,
   "metadata": {
    "collapsed": true
   },
   "outputs": [],
   "source": [
    "Bea = 1.758\n",
    "dBea = 0.007\n",
    "g = 2.19\n",
    "dg = 0.02"
   ]
  },
  {
   "cell_type": "code",
   "execution_count": 56,
   "metadata": {},
   "outputs": [
    {
     "data": {
      "text/plain": [
       "53.8232796"
      ]
     },
     "execution_count": 56,
     "metadata": {},
     "output_type": "execute_result"
    }
   ],
   "source": [
    "Bea*13.98*g"
   ]
  },
  {
   "cell_type": "code",
   "execution_count": 57,
   "metadata": {},
   "outputs": [
    {
     "data": {
      "text/plain": [
       "0.5362263133918365"
      ]
     },
     "execution_count": 57,
     "metadata": {},
     "output_type": "execute_result"
    }
   ],
   "source": [
    "np.sqrt( (dBea*g)**2 + (dg*Bea)**2 ) * 13.98"
   ]
  },
  {
   "cell_type": "code",
   "execution_count": null,
   "metadata": {
    "collapsed": true
   },
   "outputs": [],
   "source": []
  }
 ],
 "metadata": {
  "kernelspec": {
   "display_name": "Python 3",
   "language": "python",
   "name": "python3"
  },
  "language_info": {
   "codemirror_mode": {
    "name": "ipython",
    "version": 3
   },
   "file_extension": ".py",
   "mimetype": "text/x-python",
   "name": "python",
   "nbconvert_exporter": "python",
   "pygments_lexer": "ipython3",
   "version": "3.7.3"
  }
 },
 "nbformat": 4,
 "nbformat_minor": 2
}
