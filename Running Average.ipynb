{
 "cells": [
  {
   "cell_type": "code",
   "execution_count": 1,
   "metadata": {},
   "outputs": [
    {
     "data": {
      "text/html": [
       "<script type=\"text/javascript\">window.PlotlyConfig = {MathJaxConfig: 'local'};</script><script type=\"text/javascript\">if (window.MathJax) {MathJax.Hub.Config({SVG: {font: \"STIX-Web\"}});}</script><script>requirejs.config({paths: { 'plotly': ['https://cdn.plot.ly/plotly-latest.min']},});if(!window._Plotly) {require(['plotly'],function(plotly) {window._Plotly=plotly;});}</script>"
      ],
      "text/vnd.plotly.v1+html": [
       "<script type=\"text/javascript\">window.PlotlyConfig = {MathJaxConfig: 'local'};</script><script type=\"text/javascript\">if (window.MathJax) {MathJax.Hub.Config({SVG: {font: \"STIX-Web\"}});}</script><script>requirejs.config({paths: { 'plotly': ['https://cdn.plot.ly/plotly-latest.min']},});if(!window._Plotly) {require(['plotly'],function(plotly) {window._Plotly=plotly;});}</script>"
      ]
     },
     "metadata": {},
     "output_type": "display_data"
    }
   ],
   "source": [
    "import numpy as np\n",
    "import matplotlib.pyplot as plt\n",
    "%run functions_for_ESR_data_processing.ipynb\n",
    "%matplotlib inline"
   ]
  },
  {
   "cell_type": "code",
   "execution_count": 2,
   "metadata": {},
   "outputs": [
    {
     "data": {
      "text/plain": [
       "<matplotlib.collections.PathCollection at 0x285e90345f8>"
      ]
     },
     "execution_count": 2,
     "metadata": {},
     "output_type": "execute_result"
    },
    {
     "data": {
      "image/png": "[encoded data removed]",
      "text/plain": [
       "<Figure size 432x288 with 1 Axes>"
      ]
     },
     "metadata": {
      "needs_background": "light"
     },
     "output_type": "display_data"
    }
   ],
   "source": [
    "filename = 'C:\\\\Users\\\\F25_1.307_b\\\\Box Sync\\\\Arne\\\\daten.txt'\n",
    "T, XiT = data_import(filename, 1)\n",
    "\n",
    "plt.scatter(T[T<30], XiT[T<30])"
   ]
  },
  {
   "cell_type": "code",
   "execution_count": 15,
   "metadata": {},
   "outputs": [
    {
     "data": {
      "text/plain": [
       "<matplotlib.collections.PathCollection at 0x285ea6fa0f0>"
      ]
     },
     "execution_count": 15,
     "metadata": {},
     "output_type": "execute_result"
    },
    {
     "data": {
      "image/png": "[encoded data removed]",
      "text/plain": [
       "<Figure size 432x288 with 1 Axes>"
      ]
     },
     "metadata": {
      "needs_background": "light"
     },
     "output_type": "display_data"
    }
   ],
   "source": [
    "# creating a running average with N values to the right and left \n",
    "# for alpha parallel to a-axis\n",
    "\n",
    "def running_average (data, N):\n",
    "    ALPHA = np.zeros(2*N+1).tolist()\n",
    "    j = 0\n",
    "    \n",
    "    for i in np.arange(-N, N+1):\n",
    "        if i > 0:\n",
    "            a = data[0]*np.ones(i)\n",
    "            ALPHA[j] = np.append(a, data[:-i]).tolist()\n",
    "        elif i<0:\n",
    "            b = data[-1]*np.ones(-i)\n",
    "            ALPHA[j] = np.append(data[-i:], b).tolist()\n",
    "        else:\n",
    "            ALPHA[j] = data.tolist()\n",
    "        \n",
    "        j=j+1\n",
    "    \n",
    "    alpha_sum = np.zeros(np.shape(ALPHA[0])[0])\n",
    "    for i in np.arange(0,2*N):\n",
    "        alpha_sum = alpha_sum + np.array(ALPHA[i])\n",
    "        \n",
    "    return alpha_sum/(2*N)\n",
    "\n",
    "\n",
    "mask = T < 50\n",
    "plt.scatter(T[mask], XiT[mask])\n",
    "plt.scatter(T[mask], running_average(XiT, 5)[mask])"
   ]
  },
  {
   "cell_type": "code",
   "execution_count": 16,
   "metadata": {},
   "outputs": [],
   "source": [
    "data = [T, XiT, running_average(XiT, 5)]\n",
    "names = ['Temperature', 'XiT from paper', 'XiT running average']\n",
    "units = ['', '', '']\n",
    "comments = ['', '', '']\n",
    "filename = 'C:\\\\Users\\\\F25_1.307_b\\\\Box Sync\\\\Arne\\\\running_average.txt'\n",
    "\n",
    "save(data, names, units, comments, filename)"
   ]
  },
  {
   "cell_type": "code",
   "execution_count": null,
   "metadata": {},
   "outputs": [],
   "source": []
  }
 ],
 "metadata": {
  "kernelspec": {
   "display_name": "Python 3",
   "language": "python",
   "name": "python3"
  },
  "language_info": {
   "codemirror_mode": {
    "name": "ipython",
    "version": 3
   },
   "file_extension": ".py",
   "mimetype": "text/x-python",
   "name": "python",
   "nbconvert_exporter": "python",
   "pygments_lexer": "ipython3",
   "version": "3.7.0"
  }
 },
 "nbformat": 4,
 "nbformat_minor": 2
}
