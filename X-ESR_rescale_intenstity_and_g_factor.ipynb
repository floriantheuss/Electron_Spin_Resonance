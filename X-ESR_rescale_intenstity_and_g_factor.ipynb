{
 "cells": [
  {
   "cell_type": "code",
   "execution_count": 18,
   "metadata": {},
   "outputs": [
    {
     "data": {
      "text/html": [
       "<script type=\"text/javascript\">window.PlotlyConfig = {MathJaxConfig: 'local'};</script><script type=\"text/javascript\">if (window.MathJax) {MathJax.Hub.Config({SVG: {font: \"STIX-Web\"}});}</script><script>requirejs.config({paths: { 'plotly': ['https://cdn.plot.ly/plotly-latest.min']},});if(!window._Plotly) {require(['plotly'],function(plotly) {window._Plotly=plotly;});}</script>"
      ],
      "text/vnd.plotly.v1+html": [
       "<script type=\"text/javascript\">window.PlotlyConfig = {MathJaxConfig: 'local'};</script><script type=\"text/javascript\">if (window.MathJax) {MathJax.Hub.Config({SVG: {font: \"STIX-Web\"}});}</script><script>requirejs.config({paths: { 'plotly': ['https://cdn.plot.ly/plotly-latest.min']},});if(!window._Plotly) {require(['plotly'],function(plotly) {window._Plotly=plotly;});}</script>"
      ]
     },
     "metadata": {},
     "output_type": "display_data"
    },
    {
     "data": {
      "text/plain": [
       "<matplotlib.collections.PathCollection at 0x22a76ac8f98>"
      ]
     },
     "execution_count": 18,
     "metadata": {},
     "output_type": "execute_result"
    },
    {
     "data": {
      "image/png": "[encoded data removed]",
      "text/plain": [
       "<Figure size 1440x360 with 2 Axes>"
      ]
     },
     "metadata": {
      "needs_background": "light"
     },
     "output_type": "display_data"
    }
   ],
   "source": [
    "%run functions_for_ESR_data_processing.ipynb\n",
    "%matplotlib inline\n",
    "###############################################################################################\n",
    "###############################################################################################\n",
    "\n",
    "# which compound are you looking at\n",
    "# for LiCuFe2(VO4)3 enter 'Li'\n",
    "# for NaCuFe2(VO4)3 enter 'Na'\n",
    "compound = 'Li'\n",
    "\n",
    "###############################################################################################\n",
    "###############################################################################################\n",
    "\n",
    "if compound == 'Li':\n",
    "    folder = \"C:\\\\Users\\\\F25_1.307_b\\\\Box Sync\\\\Klingeler_Masterarbeit\\\\howardevansite\\\\LiCuFe2(VO4)3 powder\\\\X-band\\\\21_02_2019\"\n",
    "else:\n",
    "    folder = \"C:\\\\Users\\\\F25_1.307_b\\\\Box Sync\\\\Klingeler_Masterarbeit\\\\howardevansite\\\\NaCuFe2(VO4)3 powder\\\\X-band\\\\19_02_2019\"\n",
    "    \n",
    "filename = folder + '\\\\python fits\\\\initialguess.txt'\n",
    "\n",
    "\n",
    "if compound == 'Li':\n",
    "    #T, B01, dB01, gamma1, dgamma1, A1, dA1, B02, dB02, gamma2, dgamma2, A2, dA2, l, dl, m, dm, n, dn, freq = data_import(filename, 3)\n",
    "    #T, B01, dB01, gamma1, dgamma1, A1, dA1, l, dl, m, dm, n, dn, freq, mixing_angle, dangle = data_import(filename, 3)\n",
    "    T, B01, dB01, gamma1, dgamma1, A1, dA1, l, dl, m, dm, n, dn, freq = data_import(filename, 3)\n",
    "else:\n",
    "    #T, B01, dB01, gamma1, dgamma1, A1, dA1, B02, dB02, gamma2, dgamma2, A2, dA2, B03, dB03, gamma3, dgamma3, A3, dA3, l, dl, m, dm, n, dn, freq = data_import(filename, 3)\n",
    "    #T, B01, dB01, gamma1, dgamma1, A1, dA1, l, dl, m, dm, n, dn, freq, mixing_angle, dangle = data_import(filename, 3)\n",
    "    T, B01, dB01, gamma1, dgamma1, A1, dA1, l, dl, m, dm, n, dn, freq = data_import(filename, 3)\n",
    "\n",
    "    \n",
    "A1, dA1 = rescale_A(A1, dA1, compound)\n",
    "g1, dg1 = [10000*freq/B01/13.98, 10000*freq*dB01/B01/B01/13.98]\n",
    "\n",
    "\n",
    "fig, axes = plt.subplots(1, 2, sharex=False, sharey=False, figsize=(20,5))\n",
    "axes[0].scatter(T, A1)\n",
    "axes[1].scatter(T, g1)"
   ]
  },
  {
   "cell_type": "code",
   "execution_count": 19,
   "metadata": {},
   "outputs": [],
   "source": [
    "data = [T, g1, dg1, gamma1, dgamma1, A1, dA1, l, dl, m, dm, n, dn, freq] #, mixing_angle, dangle]\n",
    "\n",
    "names = ['T', 'g1', 'delta g1', 'gamma1', 'delta gamma1', 'intensity1', 'delta intensity1',\n",
    "        #'B02', 'delta B02', 'gamma2', 'delta gamma2', 'intensity2', 'delta intensity2',\n",
    "        # 'B03', 'delta B03', 'gamma3', 'delta gamma3', 'intensity3', 'delta intensity3',\n",
    "         'l', 'dl', 'm', 'dm', 'n', 'dn', 'frequency'] #, 'mixing angle', 'delta angle']\n",
    "units = ['K', '', '', 'G', 'G', 'a.u.', 'a.u.', \n",
    "         #'', '', 'G', 'G', 'a.u.', 'a.u.',\n",
    "         #'', '', 'G', 'G', 'a.u.', 'a.u.',\n",
    "         '', '', '', '', '', '', 'GHz'] #, 'degree', 'degree']\n",
    "comments = ['', '', '', '', '', '','', \n",
    "            #'', '', '', '', '', '',\n",
    "            #'', '', '', '', '', '',\n",
    "            '', '', '', '', '', '', ''] #, '', '']\n",
    "\n",
    "#filename = filename[:-4]+'_rescaled.txt'\n",
    "filename = folder + '\\\\python fits\\\\python_fit_results_single_Lor_without_phase_mixing_rescaled.txt'\n",
    "\n",
    "#save(data, names, units, comments, filename)"
   ]
  },
  {
   "cell_type": "code",
   "execution_count": null,
   "metadata": {},
   "outputs": [],
   "source": []
  }
 ],
 "metadata": {
  "kernelspec": {
   "display_name": "Python 3",
   "language": "python",
   "name": "python3"
  },
  "language_info": {
   "codemirror_mode": {
    "name": "ipython",
    "version": 3
   },
   "file_extension": ".py",
   "mimetype": "text/x-python",
   "name": "python",
   "nbconvert_exporter": "python",
   "pygments_lexer": "ipython3",
   "version": "3.7.0"
  }
 },
 "nbformat": 4,
 "nbformat_minor": 2
}
