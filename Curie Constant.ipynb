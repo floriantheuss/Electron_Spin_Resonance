{
 "cells": [
  {
   "cell_type": "code",
   "execution_count": 2,
   "metadata": {},
   "outputs": [],
   "source": [
    "import numpy as np\n",
    "\n",
    "\n",
    "# Bohr Magneton\n",
    "muB = 5.7883818012e-5        # eV/T\n",
    "muB = muB * 1.60218e-12      # erg/T\n",
    "muB = muB / 10000            # erg/Gauss\n",
    "\n",
    "# Boltzmann Constant\n",
    "kB = 1.38064852e-16          # erg/K\n",
    "\n",
    "# Avogadro Constant in 1/mol\n",
    "NA = 6.02214086e23\n",
    "\n",
    "# Lande g-factor\n",
    "def gJ (S, L, J):\n",
    "    return 3/2 + (S*(S+1) - L*(L+1)) / (2*J*(J+1))\n",
    "\n",
    "# effective magnetic moment in units of mu_Bohr\n",
    "def mu_eff (S, L, J):\n",
    "    mu = gJ(S, L, J) * np.sqrt(J*(J+1))\n",
    "    return mu\n",
    "\n",
    "# Curie constant in erg K/(G^2 mol) = emu K/mol\n",
    "def C (S, L, J):\n",
    "    c = (mu_eff(S, L, J)*muB)**2 / 3 / kB * NA\n",
    "    return c"
   ]
  },
  {
   "cell_type": "code",
   "execution_count": 3,
   "metadata": {},
   "outputs": [
    {
     "name": "stdout",
     "output_type": "stream",
     "text": [
      "C = 0.3751498084421848\n",
      "mu_eff = 1.7320508075688772\n"
     ]
    }
   ],
   "source": [
    "# Copper\n",
    "S = 1/2\n",
    "L = 0\n",
    "J = S\n",
    "print( 'C = ' + str(C(S, L, J)) + '\\n' + 'mu_eff = ' + str(mu_eff(S, L, J))) "
   ]
  },
  {
   "cell_type": "code",
   "execution_count": 4,
   "metadata": {},
   "outputs": [
    {
     "name": "stdout",
     "output_type": "stream",
     "text": [
      "C = 4.376747765158824\n",
      "mu_eff = 5.916079783099616\n"
     ]
    }
   ],
   "source": [
    "# Iron\n",
    "S = 5/2\n",
    "L = 0\n",
    "J = S\n",
    "print( 'C = ' + str(C(S, L, J)) + '\\n' + 'mu_eff = ' + str(mu_eff(S, L, J))) "
   ]
  },
  {
   "cell_type": "code",
   "execution_count": 5,
   "metadata": {},
   "outputs": [
    {
     "data": {
      "text/plain": [
       "9.128645338759833"
      ]
     },
     "execution_count": 5,
     "metadata": {},
     "output_type": "execute_result"
    }
   ],
   "source": [
    "# 1 Copper + 2 Iron\n",
    "C(1/2, 0, 1/2) + 2*C(5/2, 0, 5/2)"
   ]
  },
  {
   "cell_type": "code",
   "execution_count": 14,
   "metadata": {},
   "outputs": [
    {
     "data": {
      "text/plain": [
       "0.08851508052045698"
      ]
     },
     "execution_count": 14,
     "metadata": {},
     "output_type": "execute_result"
    }
   ],
   "source": [
    "mu1 = np.sqrt(0.01**2 + 0.03**2 + 0.62**2)\n",
    "mu2 = np.sqrt(0.02**2 + 0.05**2 + 0.08**2)\n",
    "mu = mu1\n",
    "g = 2\n",
    "S_L = (-1 + np.sqrt(1 + 4 * mu**2/g**2)) / 2\n",
    "S_L"
   ]
  },
  {
   "cell_type": "code",
   "execution_count": null,
   "metadata": {},
   "outputs": [],
   "source": []
  }
 ],
 "metadata": {
  "kernelspec": {
   "display_name": "Python 3",
   "language": "python",
   "name": "python3"
  },
  "language_info": {
   "codemirror_mode": {
    "name": "ipython",
    "version": 3
   },
   "file_extension": ".py",
   "mimetype": "text/x-python",
   "name": "python",
   "nbconvert_exporter": "python",
   "pygments_lexer": "ipython3",
   "version": "3.7.0"
  }
 },
 "nbformat": 4,
 "nbformat_minor": 2
}
