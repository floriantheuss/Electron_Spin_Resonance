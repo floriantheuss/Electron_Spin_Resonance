{
 "cells": [
  {
   "cell_type": "code",
   "execution_count": 26,
   "metadata": {},
   "outputs": [
    {
     "data": {
      "text/html": [
       "<script type=\"text/javascript\">window.PlotlyConfig = {MathJaxConfig: 'local'};</script><script type=\"text/javascript\">if (window.MathJax) {MathJax.Hub.Config({SVG: {font: \"STIX-Web\"}});}</script><script>requirejs.config({paths: { 'plotly': ['https://cdn.plot.ly/plotly-latest.min']},});if(!window._Plotly) {require(['plotly'],function(plotly) {window._Plotly=plotly;});}</script>"
      ],
      "text/vnd.plotly.v1+html": [
       "<script type=\"text/javascript\">window.PlotlyConfig = {MathJaxConfig: 'local'};</script><script type=\"text/javascript\">if (window.MathJax) {MathJax.Hub.Config({SVG: {font: \"STIX-Web\"}});}</script><script>requirejs.config({paths: { 'plotly': ['https://cdn.plot.ly/plotly-latest.min']},});if(!window._Plotly) {require(['plotly'],function(plotly) {window._Plotly=plotly;});}</script>"
      ]
     },
     "metadata": {},
     "output_type": "display_data"
    },
    {
     "data": {
      "text/plain": [
       "[<matplotlib.lines.Line2D at 0x112d9b1d048>]"
      ]
     },
     "execution_count": 26,
     "metadata": {},
     "output_type": "execute_result"
    },
    {
     "data": {
      "image/png": "[encoded data removed]",
      "text/plain": [
       "<Figure size 432x288 with 1 Axes>"
      ]
     },
     "metadata": {
      "needs_background": "light"
     },
     "output_type": "display_data"
    }
   ],
   "source": [
    "%run functions_for_ESR_data_processing.ipynb\n",
    "%matplotlib inline\n",
    "\n",
    "folder = \"C:\\\\Users\\\\F25_1.307_b\\\\Box Sync\\\\Klingeler_Masterarbeit\\\\howardevansite\\\\LiCuFe2(VO4)3 powder\\\\SQUID\\\\18 April 2019_M(B)\"\n",
    "\n",
    "\n",
    "\n",
    "# mass of the sample in g\n",
    "#mass = float(input('enter the mass of the sample in mg: '))*10**(-3)\n",
    "mass = 53.96*10**(-3)\n",
    "\n",
    "# molar masses of selected elements in g/mol\n",
    "Na = 22.98976928\n",
    "Cu = 63.546\n",
    "Fe = 55.845\n",
    "V = 50.9415\n",
    "O = 15.999\n",
    "Li = 6.941\n",
    "\n",
    "# MOLECULAR MASS OF THE COMPOUND\n",
    "molarmass = Li+Cu+2*Fe+3*(V+4*O)\n",
    "\n",
    "# Bohr magneton in erg/G\n",
    "muB = 9.274009994e-21\n",
    "\n",
    "# Avogadro number\n",
    "NA = 6.02214076e23 #per mol\n",
    "\n",
    "\n",
    "def line (x, m, c):\n",
    "    return m*x + c\n",
    "\n",
    "filename = folder + '\\\\LiCuFe2VO43_18041019_MB_10K.dc.dat'\n",
    "#temp = '4 K'\n",
    "\n",
    "#B, mu, a, b = data_import(filename, 3)\n",
    "field, temp, m, dm = data_import(filename, 1)\n",
    "m = m / mass * molarmass / muB / NA\n",
    "\n",
    "B = (field[::2]+field[1::2])/2\n",
    "T = (temp[::2]+temp[1::2])/2\n",
    "mu = (m[::2]+m[1::2])/2\n",
    "\n",
    "temp = str(np.round(np.mean(T)))+' K'\n",
    "\n",
    "index = np.arange(len(B))[abs(B-50000)<0.001][-1]\n",
    "Bup = B[:index]\n",
    "mup = mu[:index]\n",
    "Bdown = B[index:]\n",
    "mdown = mu[index:]\n",
    "\n",
    "plt.plot(Bup, mup)\n",
    "plt.plot(Bdown, mdown)"
   ]
  },
  {
   "cell_type": "code",
   "execution_count": 15,
   "metadata": {},
   "outputs": [
    {
     "data": {
      "text/plain": [
       "array([    0.    ,   250.    ,   500.    ,   750.    ,   999.9999,\n",
       "        1250.    ,  1500.    ,  1750.    ,  2000.    ,  2250.    ,\n",
       "        2500.    ,  2750.    ,  3000.    ,  3250.    ,  3500.    ,\n",
       "        3750.    ,  4000.    ,  4250.    ,  4500.    ,  4750.    ,\n",
       "        5000.    ,  5250.    ,  5500.    ,  5750.    ,  6000.    ,\n",
       "        6250.    ,  6500.    ,  6750.    ,  7000.    ,  7250.    ,\n",
       "        7500.    ,  7750.    ,  8000.    ,  8250.    ,  8500.    ,\n",
       "        8750.    ,  9000.    ,  9250.    ,  9500.    ,  9750.    ,\n",
       "       10000.    , 10250.    , 10500.    , 10750.    , 11000.    ,\n",
       "       11250.    , 11500.    , 11750.    , 12000.    , 12250.    ,\n",
       "       12500.    , 12750.    , 13000.    , 13250.    , 13500.    ,\n",
       "       13750.    , 14000.    , 14250.    , 14500.    , 14750.    ,\n",
       "       15000.    , 15000.    , 16944.45  , 18888.89  , 20833.33  ,\n",
       "       22777.78  , 24722.22  , 26666.67  , 28611.11  , 30555.55  ,\n",
       "       32500.    , 34444.45  , 36388.89  , 38333.33  , 40277.78  ,\n",
       "       42222.22  , 44166.67  , 46111.11  , 48055.55  , 50000.    ])"
      ]
     },
     "execution_count": 15,
     "metadata": {},
     "output_type": "execute_result"
    }
   ],
   "source": [
    "Bup"
   ]
  },
  {
   "cell_type": "code",
   "execution_count": 27,
   "metadata": {},
   "outputs": [],
   "source": [
    "indexup = np.arange(len(Bup))[abs(Bup-15000)<0.01][0]\n",
    "Bupnew = np.zeros(len(Bup)-1)\n",
    "mupnew = np.zeros(len(Bup)-1)\n",
    "\n",
    "Bupnew[:indexup] = Bup[:indexup]\n",
    "Bupnew[indexup] = ( Bup[indexup] + Bup[indexup+1] ) / 2\n",
    "Bupnew[indexup+1:] = Bup[indexup+2:]\n",
    "mupnew[:indexup] = mup[:indexup]\n",
    "mupnew[indexup] = ( mup[indexup] + mup[indexup+1] ) / 2\n",
    "mupnew[indexup+1:] = mup[indexup+2:]\n",
    "\n",
    "\n",
    "indexdown = np.arange(len(Bdown))[abs(Bdown-10000)<0.01][0]\n",
    "Bdownnew = np.zeros(len(Bdown)-1)\n",
    "mdownnew = np.zeros(len(Bdown)-1)\n",
    "\n",
    "Bdownnew[:indexdown] = Bdown[:indexdown]\n",
    "Bdownnew[indexdown] = ( Bdown[indexdown] + Bdown[indexdown+1] ) / 2\n",
    "Bdownnew[indexdown+1:] = Bdown[indexdown+2:]\n",
    "mdownnew[:indexdown] = mdown[:indexdown]\n",
    "mdownnew[indexdown] = ( mdown[indexdown] + mdown[indexdown+1] ) / 2\n",
    "mdownnew[indexdown+1:] = mdown[indexdown+2:]\n",
    "\n",
    "\n",
    "Bup = Bupnew\n",
    "mup = mupnew\n",
    "Bdown = Bdownnew\n",
    "mdown = mdownnew"
   ]
  },
  {
   "cell_type": "code",
   "execution_count": 33,
   "metadata": {},
   "outputs": [
    {
     "data": {
      "text/plain": [
       "<matplotlib.collections.PathCollection at 0x164e8510f60>"
      ]
     },
     "execution_count": 33,
     "metadata": {},
     "output_type": "execute_result"
    },
    {
     "data": {
      "image/png": "[encoded data removed]",
      "text/plain": [
       "<Figure size 432x288 with 1 Axes>"
      ]
     },
     "metadata": {
      "needs_background": "light"
     },
     "output_type": "display_data"
    }
   ],
   "source": [
    "# for 2 K\n",
    "\n",
    "popt, pcov = curve_fit(line, Bup, mup)\n",
    "fit = line(Bup, popt[0], popt[1])\n",
    "\n",
    "deviations = abs(mup-fit)\n",
    "mean = np.mean(abs(mup-fit))\n",
    "var = np.std(deviations)\n",
    "\n",
    "indices = np.arange(len(fit))[abs(deviations-mean) > 4*var]\n",
    "\n",
    "bup  = np.zeros(len(Bup)-len(indices))\n",
    "bup[:indices[0]] = Bup[:indices[0]]\n",
    "bup[indices[0]:] = Bup[indices[-1]+1:]\n",
    "\n",
    "Mup  = np.zeros(len(Bup)-len(indices))\n",
    "Mup[:indices[0]] = mup[:indices[0]]\n",
    "Mup[indices[0]:] = mup[indices[-1]+1:]\n",
    "\n",
    "mup = Mup\n",
    "Bup = bup\n",
    "\n",
    "plt.scatter(Bdown, mdown)\n",
    "plt.scatter(Bup, mup)"
   ]
  },
  {
   "cell_type": "code",
   "execution_count": null,
   "metadata": {
    "collapsed": true
   },
   "outputs": [],
   "source": [
    "# for 5 K\n",
    "mup = mup[Bup<46000]\n",
    "Bup = Bup[Bup<46000]\n",
    "\n",
    "\n",
    "popt, pcov = curve_fit(line, Bdown, mdown)\n",
    "fit = line(Bdown, popt[0], popt[1])\n",
    "\n",
    "deviations = abs(mdown-fit)\n",
    "mean = np.mean(abs(mdown-fit))\n",
    "var = np.std(deviations)\n",
    "\n",
    "indices = np.arange(len(fit))[abs(deviations-mean) > 1.5*var]\n",
    "\n",
    "bdown  = np.zeros(len(Bdown)-len(indices))\n",
    "bdown[:indices[0]] = Bdown[:indices[0]]\n",
    "bdown[indices[0]:] = Bdown[indices[-1]+1:]\n",
    "\n",
    "Mdown = np.zeros(len(Bdown)-len(indices))\n",
    "Mdown[:indices[0]] = mdown[:indices[0]]\n",
    "Mdown[indices[0]:] = mdown[indices[-1]+1:]\n",
    "\n",
    "mdown = Mdown\n",
    "Bdown = bdown\n",
    "\n",
    "plt.plot(Bdown, mdown)\n",
    "plt.plot(Bup, mup)"
   ]
  },
  {
   "cell_type": "code",
   "execution_count": 28,
   "metadata": {
    "scrolled": true
   },
   "outputs": [
    {
     "data": {
      "text/plain": [
       "[<matplotlib.lines.Line2D at 0x112d9ac59e8>]"
      ]
     },
     "execution_count": 28,
     "metadata": {},
     "output_type": "execute_result"
    },
    {
     "data": {
      "image/png": "[encoded data removed]",
      "text/plain": [
       "<Figure size 432x288 with 1 Axes>"
      ]
     },
     "metadata": {
      "needs_background": "light"
     },
     "output_type": "display_data"
    }
   ],
   "source": [
    "derup = np.gradient(mup, Bup) * muB * NA\n",
    "derdown = np.gradient(mdown, Bdown) * muB * NA\n",
    "\n",
    "plt.plot(Bup, derup)\n",
    "plt.plot(Bdown, derdown)\n",
    "#plt.scatter(Bup[:70], np.gradient(Bup, subtracted_up)[:70] + np.gradient(Bup, mup)[50] - np.gradient(Bup, subtracted_up)[50])\n",
    "#plt.ylim([55000, 60000])"
   ]
  },
  {
   "cell_type": "code",
   "execution_count": 29,
   "metadata": {},
   "outputs": [
    {
     "data": {
      "text/plain": [
       "<matplotlib.collections.PathCollection at 0x112dad19160>"
      ]
     },
     "execution_count": 29,
     "metadata": {},
     "output_type": "execute_result"
    },
    {
     "data": {
      "image/png": "[encoded data removed]",
      "text/plain": [
       "<Figure size 720x576 with 1 Axes>"
      ]
     },
     "metadata": {
      "needs_background": "light"
     },
     "output_type": "display_data"
    }
   ],
   "source": [
    "lower_limit = 45000\n",
    "upper_limit = 50000\n",
    "mask = [np.all([i>=lower_limit, i<=upper_limit]) for i in Bup]\n",
    "\n",
    "popt, pcov = curve_fit (line, Bup[mask], mup[mask])\n",
    "\n",
    "fit_up = line(Bup, popt[0], popt[1])\n",
    "subtracted_up = mup - fit_up\n",
    "\n",
    "fit_down = line(Bdown, popt[0], popt[1])\n",
    "subtracted_down = mdown - fit_down\n",
    "\n",
    "\n",
    "plt.figure(figsize = (10,8))\n",
    "plt.scatter(Bdown, subtracted_down)\n",
    "plt.scatter(Bup, subtracted_up)"
   ]
  },
  {
   "cell_type": "code",
   "execution_count": 30,
   "metadata": {},
   "outputs": [],
   "source": [
    "i = len(Bup)\n",
    "a = [np.nan for i in np.zeros(2*i - len(B) + 2)]\n",
    "\n",
    "derdown = [i for i in derdown] + a\n",
    "Bdown = [i for i in Bdown] + a\n",
    "mdown = [i for i in mdown] + a\n",
    "subtracted_down = [i for i in subtracted_down] + a\n",
    "fit_down = [i for i in fit_down] + a\n",
    "\n",
    "\n",
    "\n",
    "data = [Bup, mup, derup, subtracted_up, fit_up, Bdown, mdown, derdown, subtracted_down, fit_down]\n",
    "names = ['B u', 'M u', 'dM/dB u', 'M - straight line u', 'fitted reference line u',\n",
    "         'B d', 'M d', 'dM/dB d', 'M - straight line d', 'fitted reference line d']\n",
    "units = ['T', 'mu_B/f.u.', 'mu_B/(f.u. T)', 'mu_B/f.u.', 'mu_B/f.u.', \n",
    "         'T', 'mu_B/f.u.', 'mu_B/(f.u. T)', 'mu_B/f.u.', 'mu_B/f.u.']\n",
    "comments = [temp, temp, temp, temp, temp, temp, temp, temp, temp, temp]\n",
    "\n",
    "#filename = folder + '\\\\NaCuFe2VO43_06072019_MB_'+t+'K_processed_split.txt'\n",
    "filename = folder + '\\\\LiCuFe2VO43_18042019_MB_'+temp+'_processed_split.txt'\n",
    "save(data, names, units, comments, filename)"
   ]
  },
  {
   "cell_type": "code",
   "execution_count": 36,
   "metadata": {
    "collapsed": true
   },
   "outputs": [],
   "source": [
    "def combine (array1, array2):\n",
    "    array1 = [i for i in array1]\n",
    "    array2 = [i for i in array2]\n",
    "    array = array1 + array2\n",
    "    return np.array(array)\n",
    "\n",
    "B = combine(Bup, Bdown)\n",
    "mu = combine(mup, mdown)\n",
    "subtracted = combine(subtracted_up, subtracted_down)\n",
    "derivative = combine(np.gradient(Bup, mup), np.gradient(Bdown, mdown))\n",
    "fit_total = combine( line(Bup, popt[0], popt[1]), line(Bdown, popt[0], popt[1]) )\n",
    "\n",
    "\n",
    "save_data = [B/10000, mu, derivative, subtracted, fit_total]\n",
    "names = ['B', 'M', 'dM/dB', 'M - straight line', 'fitted reference line']\n",
    "units = ['T', 'mu_B/f.u.', 'mu_B/(f.u. T)', 'mu_B/f.u.', 'mu_B/f.u.']\n",
    "comments = [temp, temp, temp, temp, temp]\n",
    "    \n",
    "filename = filename[:-7]+'_processed.txt'\n",
    "    \n",
    "save(save_data, names, units, comments, filename)"
   ]
  },
  {
   "cell_type": "markdown",
   "metadata": {},
   "source": [
    "# separate up from down direction"
   ]
  },
  {
   "cell_type": "code",
   "execution_count": 4,
   "metadata": {
    "scrolled": true
   },
   "outputs": [
    {
     "data": {
      "text/html": [
       "<script type=\"text/javascript\">window.PlotlyConfig = {MathJaxConfig: 'local'};</script><script type=\"text/javascript\">if (window.MathJax) {MathJax.Hub.Config({SVG: {font: \"STIX-Web\"}});}</script><script>requirejs.config({paths: { 'plotly': ['https://cdn.plot.ly/plotly-latest.min']},});if(!window._Plotly) {require(['plotly'],function(plotly) {window._Plotly=plotly;});}</script>"
      ],
      "text/vnd.plotly.v1+html": [
       "<script type=\"text/javascript\">window.PlotlyConfig = {MathJaxConfig: 'local'};</script><script type=\"text/javascript\">if (window.MathJax) {MathJax.Hub.Config({SVG: {font: \"STIX-Web\"}});}</script><script>requirejs.config({paths: { 'plotly': ['https://cdn.plot.ly/plotly-latest.min']},});if(!window._Plotly) {require(['plotly'],function(plotly) {window._Plotly=plotly;});}</script>"
      ]
     },
     "metadata": {},
     "output_type": "display_data"
    },
    {
     "ename": "ValueError",
     "evalue": "too many values to unpack (expected 5)",
     "output_type": "error",
     "traceback": [
      "\u001b[1;31m---------------------------------------------------------------------------\u001b[0m",
      "\u001b[1;31mValueError\u001b[0m                                Traceback (most recent call last)",
      "\u001b[1;32m<ipython-input-4-58a7462c584e>\u001b[0m in \u001b[0;36m<module>\u001b[1;34m()\u001b[0m\n\u001b[0;32m      8\u001b[0m \u001b[0mt\u001b[0m \u001b[1;33m=\u001b[0m \u001b[1;34m'5'\u001b[0m\u001b[1;33m\u001b[0m\u001b[0m\n\u001b[0;32m      9\u001b[0m \u001b[0mtemp\u001b[0m \u001b[1;33m=\u001b[0m \u001b[0mt\u001b[0m\u001b[1;33m+\u001b[0m\u001b[1;34m' K'\u001b[0m\u001b[1;33m\u001b[0m\u001b[0m\n\u001b[1;32m---> 10\u001b[1;33m \u001b[0mB\u001b[0m\u001b[1;33m,\u001b[0m \u001b[0mM\u001b[0m\u001b[1;33m,\u001b[0m \u001b[0mdMdB\u001b[0m\u001b[1;33m,\u001b[0m \u001b[0mnonlinM\u001b[0m\u001b[1;33m,\u001b[0m \u001b[0mlinM\u001b[0m \u001b[1;33m=\u001b[0m \u001b[0mdata_import\u001b[0m\u001b[1;33m(\u001b[0m\u001b[0mfilename\u001b[0m\u001b[1;33m,\u001b[0m \u001b[1;36m3\u001b[0m\u001b[1;33m)\u001b[0m\u001b[1;33m\u001b[0m\u001b[0m\n\u001b[0m\u001b[0;32m     11\u001b[0m \u001b[1;33m\u001b[0m\u001b[0m\n\u001b[0;32m     12\u001b[0m \u001b[0mi\u001b[0m \u001b[1;33m=\u001b[0m \u001b[0mnp\u001b[0m\u001b[1;33m.\u001b[0m\u001b[0marange\u001b[0m\u001b[1;33m(\u001b[0m\u001b[0mlen\u001b[0m\u001b[1;33m(\u001b[0m\u001b[0mB\u001b[0m\u001b[1;33m)\u001b[0m\u001b[1;33m)\u001b[0m\u001b[1;33m[\u001b[0m\u001b[0mabs\u001b[0m\u001b[1;33m(\u001b[0m\u001b[0mB\u001b[0m\u001b[1;33m-\u001b[0m\u001b[1;36m5\u001b[0m\u001b[1;33m)\u001b[0m\u001b[1;33m<\u001b[0m\u001b[1;36m0.01\u001b[0m\u001b[1;33m]\u001b[0m\u001b[1;33m[\u001b[0m\u001b[1;33m-\u001b[0m\u001b[1;36m1\u001b[0m\u001b[1;33m]\u001b[0m\u001b[1;33m\u001b[0m\u001b[0m\n",
      "\u001b[1;31mValueError\u001b[0m: too many values to unpack (expected 5)"
     ]
    }
   ],
   "source": [
    "%run functions_for_ESR_data_processing.ipynb\n",
    "%matplotlib inline\n",
    "\n",
    "folder = \"C:\\\\Users\\\\j111\\\\Box Sync\\\\Klingeler_Masterarbeit\\\\howardevansite\\\\LiCuFe2(VO4)3 powder\\\\SQUID\\\\18 April 2019_M(B)\"\n",
    "\n",
    "#filename = folder + '\\\\NaCuFe2VO43_06072019_MB_2K_processed.txt'\n",
    "filename = folder + '\\\\LiCuFe2VO43_18042019_MB_6 K_processed_split.txt'\n",
    "t = '5'\n",
    "temp = t+' K'\n",
    "B, M, dMdB, nonlinM, linM = data_import(filename, 3)\n",
    "\n",
    "i = np.arange(len(B))[abs(B-5)<0.01][-1]\n",
    "\n",
    "a = [np.nan for i in np.zeros(2*i - len(B))]\n",
    "Bd = [i for i in B[i:]] + a\n",
    "Md = [i for i in M[i:]] + a\n",
    "dMdBd = [i for i in dMdB[i:]] + a\n",
    "nonlinMd = [i for i in nonlinM[i:]] + a\n",
    "linMd = [i for i in linM[i:]] + a\n",
    "\n",
    "data = [B[:i], M[:i], dMdB[:i], nonlinM[:i], linM[:i], Bd, Md, dMdBd, nonlinMd, linMd]\n",
    "names = ['B u', 'M u', 'dM/dB u', 'M - straight line u', 'fitted reference line u',\n",
    "         'B d', 'M d', 'dM/dB d', 'M - straight line d', 'fitted reference line d']\n",
    "units = ['T', 'mu_B/f.u.', 'mu_B/(f.u. T)', 'mu_B/f.u.', 'mu_B/f.u.', \n",
    "         'T', 'mu_B/f.u.', 'mu_B/(f.u. T)', 'mu_B/f.u.', 'mu_B/f.u.']\n",
    "comments = [temp, temp, temp, temp, temp, temp, temp, temp, temp, temp]\n",
    "\n",
    "#filename = folder + '\\\\NaCuFe2VO43_06072019_MB_'+t+'K_processed_split.txt'\n",
    "filename = folder + '\\\\LiCuFe2VO43_16062019_MB_'+t+'K_processed_split.txt'\n",
    "#save(data, names, units, comments, filename)\n",
    "\n",
    "plt.scatter(B, nonlinM)"
   ]
  },
  {
   "cell_type": "code",
   "execution_count": 34,
   "metadata": {
    "collapsed": true
   },
   "outputs": [],
   "source": [
    "folder = \"C:\\\\Users\\\\F25_1.307_b\\\\Box Sync\\\\Klingeler_Masterarbeit\\\\howardevansite\\\\NaCuFe2(VO4)3 powder\\\\SQUID\\\\06 July 2019_M(B)\"\n",
    "\n",
    "filename = folder + '\\\\NaCuFe2VO43_06072019_MB_6K_processed_split.txt'\n",
    "#filename = folder + '\\\\LiCuFe2VO43_18042019_MB_13 K_processed_split.txt'\n",
    "t = '6'\n",
    "temp = t+' K'\n",
    "\n",
    "muB = 9.274 * 10**(-21) # erg/G\n",
    "NA = 6.02214 * 10**23\n",
    "\n",
    "Bu, Mu, dMdBu, nonlinMu, linMu, Bd, Md, dMdBd, nonlinMd, linMd = data_import(filename, 3)\n",
    "\n",
    "deru = np.gradient(Mu, Bu) * muB * NA / 10000 # gives derivative in  erg/(G^2 mol)\n",
    "derd = np.gradient(Md, Bd) * muB * NA / 10000\n",
    "\n",
    "\n",
    "data = [Bu, Mu, deru, nonlinMu, linMu, Bd, Md, derd, nonlinMd, linMd]\n",
    "names = ['B u', 'M u', 'dM/dB u', 'M - straight line u', 'fitted reference line u',\n",
    "         'B d', 'M d', 'dM/dB d', 'M - straight line d', 'fitted reference line d']\n",
    "units = ['T', 'mu_B/f.u.', 'erg/(G^2 mol)', 'mu_B/f.u.', 'mu_B/f.u.',\n",
    "         'T', 'mu_B/f.u.', 'erg/(G^2 mol)', 'mu_B/f.u.', 'mu_B/f.u.']\n",
    "comments = [temp, temp, temp, temp, temp, temp, temp, temp, temp, temp]\n",
    "\n",
    "save(data, names, units, comments, filename)"
   ]
  },
  {
   "cell_type": "code",
   "execution_count": 16,
   "metadata": {},
   "outputs": [
    {
     "data": {
      "text/plain": [
       "<matplotlib.collections.PathCollection at 0x1c77f1e8828>"
      ]
     },
     "execution_count": 16,
     "metadata": {},
     "output_type": "execute_result"
    },
    {
     "data": {
      "image/png": "[encoded data removed]",
      "text/plain": [
       "<Figure size 432x288 with 1 Axes>"
      ]
     },
     "metadata": {
      "needs_background": "light"
     },
     "output_type": "display_data"
    }
   ],
   "source": [
    "plt.scatter(Bu, deru)\n",
    "plt.scatter(Bd, derd)"
   ]
  },
  {
   "cell_type": "code",
   "execution_count": null,
   "metadata": {
    "collapsed": true
   },
   "outputs": [],
   "source": []
  }
 ],
 "metadata": {
  "kernelspec": {
   "display_name": "Python 3",
   "language": "python",
   "name": "python3"
  },
  "language_info": {
   "codemirror_mode": {
    "name": "ipython",
    "version": 3
   },
   "file_extension": ".py",
   "mimetype": "text/x-python",
   "name": "python",
   "nbconvert_exporter": "python",
   "pygments_lexer": "ipython3",
   "version": "3.7.3"
  }
 },
 "nbformat": 4,
 "nbformat_minor": 2
}
